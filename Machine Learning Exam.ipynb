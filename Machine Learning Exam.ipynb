{
  "nbformat": 4,
  "nbformat_minor": 0,
  "metadata": {
    "colab": {
      "name": "ML-Exam2020.ipynb",
      "provenance": [],
      "collapsed_sections": []
    },
    "kernelspec": {
      "name": "python3",
      "display_name": "Python 3"
    }
  },
  "cells": [
    {
      "cell_type": "markdown",
      "metadata": {
        "id": "qryIQIF9-Whw",
        "colab_type": "text"
      },
      "source": [
        "### **Final Exam**\n",
        "### **Data Mining, Machine Learning and Deep Learning**\n",
        "\n",
        "**Authors (Student Numbers):** 91849 (Student 1), 111212 (Student 2) & 110599 (Student 3)\n",
        "\n",
        "**Course Professor:** Raghava Rao Mukkamala\n",
        "\n",
        "**Submission date:** 11 June - 2020\n",
        "\n",
        "**Individualization:** Student 1, Student 2 & Student 3 have collaborated equally on the programming part of the assignment\n"
      ]
    },
    {
      "cell_type": "markdown",
      "metadata": {
        "id": "1up-271OE2IX",
        "colab_type": "text"
      },
      "source": [
        "\n",
        "### **Data and library import**"
      ]
    },
    {
      "cell_type": "code",
      "metadata": {
        "id": "1n2ByPg-eG8W",
        "colab_type": "code",
        "outputId": "fbba526c-15b1-49f7-9a36-5eee08f15bba",
        "colab": {
          "base_uri": "https://localhost:8080/",
          "height": 34
        }
      },
      "source": [
        "#Mounting google drive(Will only function if the file is shared with your google account)\n",
        "from google.colab import drive\n",
        "drive.mount('/content/drive')"
      ],
      "execution_count": 31,
      "outputs": [
        {
          "output_type": "stream",
          "text": [
            "Drive already mounted at /content/drive; to attempt to forcibly remount, call drive.mount(\"/content/drive\", force_remount=True).\n"
          ],
          "name": "stdout"
        }
      ]
    },
    {
      "cell_type": "code",
      "metadata": {
        "id": "bw8WKoZ_objE",
        "colab_type": "code",
        "colab": {}
      },
      "source": [
        "#Ignoring warnings as they have been inspected, and concluded that they dont have impact.\n",
        "import warnings\n",
        "warnings.filterwarnings('ignore')\n",
        "warnings.simplefilter('ignore')"
      ],
      "execution_count": 0,
      "outputs": []
    },
    {
      "cell_type": "markdown",
      "metadata": {
        "id": "EvDPcgj8Zjuc",
        "colab_type": "text"
      },
      "source": [
        "### **Importing Libraries**"
      ]
    },
    {
      "cell_type": "code",
      "metadata": {
        "id": "BgDgEV5cpax6",
        "colab_type": "code",
        "colab": {}
      },
      "source": [
        "!pip install -q confusion_matrix\n",
        "\n",
        "import pandas as pd\n",
        "\n",
        "from imblearn.over_sampling import SMOTE, ADASYN\n",
        "from imblearn.combine import SMOTETomek\n",
        "from imblearn.pipeline import Pipeline\n",
        "\n",
        "import matplotlib.pyplot as plt\n",
        "\n",
        "import numpy as np\n",
        "\n",
        "import seaborn as sns \n",
        "\n",
        "import sklearn.metrics\n",
        "from sklearn.metrics import r2_score, classification_report, confusion_matrix, accuracy_score, roc_auc_score, roc_curve, precision_recall_curve, average_precision_score, homogeneity_score, silhouette_score\n",
        "from sklearn.model_selection import train_test_split, GridSearchCV, ParameterGrid\n",
        "from sklearn.linear_model import LinearRegression, LogisticRegression\n",
        "from sklearn.ensemble import RandomForestClassifier, VotingClassifier\n",
        "from sklearn.naive_bayes import GaussianNB\n",
        "from sklearn import svm"
      ],
      "execution_count": 0,
      "outputs": []
    },
    {
      "cell_type": "markdown",
      "metadata": {
        "id": "_yIpmkaJJmIk",
        "colab_type": "text"
      },
      "source": [
        "### **Defining Functions**"
      ]
    },
    {
      "cell_type": "code",
      "metadata": {
        "colab_type": "code",
        "id": "JzuPvvyxJh0N",
        "colab": {}
      },
      "source": [
        "#Data Prep/plotting functions:\n",
        "def data_prep(df: pd.DataFrame) -> (np.ndarray, np.ndarray):\n",
        "    X = df.iloc[:, 2:30].values\n",
        "    y = df.Class.values\n",
        "    return X, y\n",
        "\n",
        "def plot_data(X, y, label='Classes'): \n",
        "    #Colors for color blindness  \n",
        "    colors = ['#1E88E5', '#D81B60'] \n",
        "    markers = ['o', 's']\n",
        "    for l, c, m in zip(np.unique(y), colors, markers):\n",
        "        plt.scatter(\n",
        "            X[y==l, 0],\n",
        "            X[y==l, 1],\n",
        "            c=c, label=l, marker=m\n",
        "        )\n",
        "    plt.title(label)\n",
        "    plt.legend(loc='upper right')\n",
        "    plt.show()\n",
        "\n",
        "def model_performance(X_train: np.ndarray, y_train: np.ndarray,\n",
        "                      X_test: np.ndarray, y_test: np.ndarray, model):\n",
        "    \"\"\"\n",
        "    model: sklearn model (e.g. RandomForestClassifier)\n",
        "    \"\"\"\n",
        "    # Fit your training model to your training set\n",
        "    model.fit(X_train, y_train)\n",
        "\n",
        "    # Obtain the predicted values and probabilities from the model \n",
        "    predicted = model.predict(X_test)\n",
        "    \n",
        "    try:\n",
        "        probs = model.predict_proba(X_test)\n",
        "        print('ROC Score:')\n",
        "        print(roc_auc_score(y_test, probs[:,1]))\n",
        "    except AttributeError:\n",
        "        pass\n",
        "\n",
        "    # Print the ROC curve, classification report and confusion matrix\n",
        "    print('\\nClassification Report:')\n",
        "    print(classification_report(y_test, predicted))\n",
        "    print('\\nConfusion Matrix:')\n",
        "    print(confusion_matrix(y_test, predicted))"
      ],
      "execution_count": 0,
      "outputs": []
    },
    {
      "cell_type": "markdown",
      "metadata": {
        "id": "E2Z1tQh6E-uL",
        "colab_type": "text"
      },
      "source": [
        "### **Data inspection**"
      ]
    },
    {
      "cell_type": "code",
      "metadata": {
        "id": "TW1E0qvVpemg",
        "colab_type": "code",
        "outputId": "0164d920-414f-47e8-f35f-3db750e57643",
        "colab": {
          "base_uri": "https://localhost:8080/",
          "height": 255
        }
      },
      "source": [
        "#Import of data from google drive:\n",
        "df = pd.read_csv(\"drive/My Drive/creditcard.csv\")\n",
        "\n",
        "#df.head used to insure that we get the expected columns\n",
        "df.head()\n",
        "\n",
        "#df.info() to get information about the dataset\n",
        "df.info"
      ],
      "execution_count": 35,
      "outputs": [
        {
          "output_type": "execute_result",
          "data": {
            "text/plain": [
              "<bound method DataFrame.info of             Time         V1         V2  ...       V28  Amount  Class\n",
              "0            0.0  -1.359807  -0.072781  ... -0.021053  149.62      0\n",
              "1            0.0   1.191857   0.266151  ...  0.014724    2.69      0\n",
              "2            1.0  -1.358354  -1.340163  ... -0.059752  378.66      0\n",
              "3            1.0  -0.966272  -0.185226  ...  0.061458  123.50      0\n",
              "4            2.0  -1.158233   0.877737  ...  0.215153   69.99      0\n",
              "...          ...        ...        ...  ...       ...     ...    ...\n",
              "284802  172786.0 -11.881118  10.071785  ...  0.823731    0.77      0\n",
              "284803  172787.0  -0.732789  -0.055080  ... -0.053527   24.79      0\n",
              "284804  172788.0   1.919565  -0.301254  ... -0.026561   67.88      0\n",
              "284805  172788.0  -0.240440   0.530483  ...  0.104533   10.00      0\n",
              "284806  172792.0  -0.533413  -0.189733  ...  0.013649  217.00      0\n",
              "\n",
              "[284807 rows x 31 columns]>"
            ]
          },
          "metadata": {
            "tags": []
          },
          "execution_count": 35
        }
      ]
    },
    {
      "cell_type": "code",
      "metadata": {
        "id": "1BVP_Glksb79",
        "colab_type": "code",
        "outputId": "50ea29a3-9098-479a-edc6-2d62882a8860",
        "colab": {
          "base_uri": "https://localhost:8080/",
          "height": 102
        }
      },
      "source": [
        "# Counting the occurences of the two different values in column \"Class\"\n",
        "occurences = df['Class'].value_counts()\n",
        "print(occurences)\n",
        "# Using the ratio of cases with \"1\" in column \"Class\" and multiplying it with 100 to get it in percentage\n",
        "ratio_cases = occurences/len(df.index)\n",
        "print(\"ratio of fraud cases:\")\n",
        "print(ratio_cases[1])"
      ],
      "execution_count": 36,
      "outputs": [
        {
          "output_type": "stream",
          "text": [
            "0    284315\n",
            "1       492\n",
            "Name: Class, dtype: int64\n",
            "ratio of fraud cases:\n",
            "0.001727485630620034\n"
          ],
          "name": "stdout"
        }
      ]
    },
    {
      "cell_type": "markdown",
      "metadata": {
        "id": "fUfHIQi-FWYg",
        "colab_type": "text"
      },
      "source": [
        "## **Data visualization and handling of unbalanced data (Resampling)**"
      ]
    },
    {
      "cell_type": "markdown",
      "metadata": {
        "id": "jFGeu7ffd0y7",
        "colab_type": "text"
      },
      "source": [
        "### **Resampling using SMOTE Tomek Links**"
      ]
    },
    {
      "cell_type": "code",
      "metadata": {
        "id": "o99MekiwWAwV",
        "colab_type": "code",
        "outputId": "cf7b22f2-f2bb-4422-c866-78d205062854",
        "colab": {
          "base_uri": "https://localhost:8080/",
          "height": 545
        }
      },
      "source": [
        "#Using the data_prep function to get numpy arrays, exclude time and define return X and y\n",
        "X, y = data_prep(df)\n",
        "\n",
        "#Getting X_smt and y_smt which is the dataset resampled with smoteTomek.\n",
        "smt = SMOTETomek(ratio='auto', random_state=5)\n",
        "X_smt, y_smt = smt.fit_sample(X, y)\n",
        "\n",
        "#Plotting the two and compare them\n",
        "plot_data(X, y,\"Original data\")\n",
        "plot_data(X_smt, y_smt, \"SMOTE Tomek Links\")"
      ],
      "execution_count": 37,
      "outputs": [
        {
          "output_type": "display_data",
          "data": {
            "image/png": "[encoded data removed]",
            "text/plain": [
              "<Figure size 432x288 with 1 Axes>"
            ]
          },
          "metadata": {
            "tags": [],
            "needs_background": "light"
          }
        },
        {
          "output_type": "display_data",
          "data": {
            "image/png": "[encoded data removed]",
            "text/plain": [
              "<Figure size 432x288 with 1 Axes>"
            ]
          },
          "metadata": {
            "tags": [],
            "needs_background": "light"
          }
        }
      ]
    },
    {
      "cell_type": "code",
      "metadata": {
        "id": "ibIHw4g5zEOS",
        "colab_type": "code",
        "outputId": "2b109ab5-f658-4de2-f7c8-e728c9db29d1",
        "colab": {
          "base_uri": "https://localhost:8080/",
          "height": 153
        }
      },
      "source": [
        "#SMOTE Tomek Links Comparison with orignial data. SMOTE Tomek should make sure \n",
        "#that there are equal amounts of fraud and non-fraud cases.\n",
        "print(\"Original data:\")\n",
        "print(pd.value_counts(pd.Series(y)))\n",
        "\n",
        "print(\"Resampled data using SMOTE Tomek Links:\")\n",
        "print(pd.value_counts(pd.Series(y_smt)))"
      ],
      "execution_count": 38,
      "outputs": [
        {
          "output_type": "stream",
          "text": [
            "Original data:\n",
            "0    284315\n",
            "1       492\n",
            "dtype: int64\n",
            "Resampled data using SMOTE Tomek Links:\n",
            "1    284315\n",
            "0    284315\n",
            "dtype: int64\n"
          ],
          "name": "stdout"
        }
      ]
    },
    {
      "cell_type": "markdown",
      "metadata": {
        "id": "lb27fxqDeNG_",
        "colab_type": "text"
      },
      "source": [
        "### **Resampling using ADASYN**"
      ]
    },
    {
      "cell_type": "code",
      "metadata": {
        "id": "fmZJ9F9tKr0s",
        "colab_type": "code",
        "outputId": "3d098071-236d-43be-e1e5-dd9ee0bf97bf",
        "colab": {
          "base_uri": "https://localhost:8080/",
          "height": 545
        }
      },
      "source": [
        "#Resampling with adasyn and getting X_adasyn and y_adasyn\n",
        "X_adasyn, y_adasyn = ADASYN().fit_sample(X, y)\n",
        "#Comparing adasyn with orignial data:\n",
        "plot_data(X, y,\"Original data\")\n",
        "plot_data(X_adasyn,y_adasyn,\"ADASYN\")"
      ],
      "execution_count": 39,
      "outputs": [
        {
          "output_type": "display_data",
          "data": {
            "image/png": "[encoded data removed]",
            "text/plain": [
              "<Figure size 432x288 with 1 Axes>"
            ]
          },
          "metadata": {
            "tags": [],
            "needs_background": "light"
          }
        },
        {
          "output_type": "display_data",
          "data": {
            "image/png": "[encoded data removed]",
            "text/plain": [
              "<Figure size 432x288 with 1 Axes>"
            ]
          },
          "metadata": {
            "tags": [],
            "needs_background": "light"
          }
        }
      ]
    },
    {
      "cell_type": "markdown",
      "metadata": {
        "id": "jR2YWFdvPttn",
        "colab_type": "text"
      },
      "source": [
        "### **Logistic Regression Baseline Model**"
      ]
    },
    {
      "cell_type": "code",
      "metadata": {
        "id": "ipp5E8wzfOt2",
        "colab_type": "code",
        "outputId": "5322637b-b04e-4c05-d5ee-b8eabaa6aa3e",
        "colab": {
          "base_uri": "https://localhost:8080/",
          "height": 340
        }
      },
      "source": [
        "# Define which resampling methods to be used in pipelines\n",
        "resampling_smt = SMOTETomek(ratio='auto')\n",
        "resampling_adasyn = ADASYN(ratio='auto', random_state=5) \n",
        "\n",
        "#Create a logistic regression model as logReg\n",
        "logReg = LogisticRegression()\n",
        "\n",
        "# Split data X and y, into a training and a test set and fitting the pipeline onto the training data. Split = 75/25.\n",
        "X_train, X_test, y_train, y_test = train_test_split(X, y, test_size=0.25, random_state=5)\n",
        "\n",
        "#Create Baseline Model without the Resampling\n",
        "print('\\n Logistic Regression without resampling (baseline model')\n",
        "model_performance(X_train, y_train, X_test, y_test, logReg)"
      ],
      "execution_count": 40,
      "outputs": [
        {
          "output_type": "stream",
          "text": [
            "\n",
            " Logistic Regression without resampling (baseline model\n",
            "ROC Score:\n",
            "0.9658374842064128\n",
            "\n",
            "Classification Report:\n",
            "              precision    recall  f1-score   support\n",
            "\n",
            "           0       1.00      1.00      1.00     71081\n",
            "           1       0.86      0.67      0.75       121\n",
            "\n",
            "    accuracy                           1.00     71202\n",
            "   macro avg       0.93      0.83      0.88     71202\n",
            "weighted avg       1.00      1.00      1.00     71202\n",
            "\n",
            "\n",
            "Confusion Matrix:\n",
            "[[71068    13]\n",
            " [   40    81]]\n"
          ],
          "name": "stdout"
        }
      ]
    },
    {
      "cell_type": "markdown",
      "metadata": {
        "id": "asz4c5kuemKW",
        "colab_type": "text"
      },
      "source": [
        "### **Logistic Regression including SMOTE-Tomek Links Resampling**"
      ]
    },
    {
      "cell_type": "code",
      "metadata": {
        "id": "GcSzrGAeenBk",
        "colab_type": "code",
        "outputId": "33b45135-b305-4ef5-9c65-a281cd2941f9",
        "colab": {
          "base_uri": "https://localhost:8080/",
          "height": 340
        }
      },
      "source": [
        "# Create Pipeline combining resampling (SMOTE Tomek Links) & model (logReg)\n",
        "smt_logReg = Pipeline([('SMOTE Tomek Links', resampling_smt), ('Logistic Regression', logReg)])\n",
        "\n",
        "#Testing Model Performance\n",
        "print('\\n Logistic Regression with SMOTETomek resampling')\n",
        "model_performance(X_train, y_train, X_test, y_test, smt_logReg)"
      ],
      "execution_count": 41,
      "outputs": [
        {
          "output_type": "stream",
          "text": [
            "\n",
            " Logistic Regression with SMOTETomek resampling\n",
            "ROC Score:\n",
            "0.9635682188205494\n",
            "\n",
            "Classification Report:\n",
            "              precision    recall  f1-score   support\n",
            "\n",
            "           0       1.00      0.98      0.99     71081\n",
            "           1       0.08      0.89      0.15       121\n",
            "\n",
            "    accuracy                           0.98     71202\n",
            "   macro avg       0.54      0.94      0.57     71202\n",
            "weighted avg       1.00      0.98      0.99     71202\n",
            "\n",
            "\n",
            "Confusion Matrix:\n",
            "[[69888  1193]\n",
            " [   13   108]]\n"
          ],
          "name": "stdout"
        }
      ]
    },
    {
      "cell_type": "markdown",
      "metadata": {
        "id": "AnIAxZ4BenlE",
        "colab_type": "text"
      },
      "source": [
        "### **Logistic Regression including ADASYN Resampling**"
      ]
    },
    {
      "cell_type": "code",
      "metadata": {
        "id": "rd35Y8nieoRJ",
        "colab_type": "code",
        "outputId": "b20db3b1-f257-47dc-edd9-a5f71c88ca41",
        "colab": {
          "base_uri": "https://localhost:8080/",
          "height": 340
        }
      },
      "source": [
        "# Create Pipeline combining resampling (ADASYN) & model (logReg)\n",
        "adasyn_logReg = Pipeline([('ADASYN', resampling_adasyn), ('Logistic Regression', logReg)])\n",
        "\n",
        "#Testing Model Performance\n",
        "print('\\n Logistic Regression with ADASYN resampling')\n",
        "model_performance(X_train, y_train, X_test, y_test, adasyn_logReg)"
      ],
      "execution_count": 42,
      "outputs": [
        {
          "output_type": "stream",
          "text": [
            "\n",
            " Logistic Regression with ADASYN resampling\n",
            "ROC Score:\n",
            "0.9631191327412412\n",
            "\n",
            "Classification Report:\n",
            "              precision    recall  f1-score   support\n",
            "\n",
            "           0       1.00      0.95      0.98     71081\n",
            "           1       0.03      0.92      0.06       121\n",
            "\n",
            "    accuracy                           0.95     71202\n",
            "   macro avg       0.52      0.93      0.52     71202\n",
            "weighted avg       1.00      0.95      0.97     71202\n",
            "\n",
            "\n",
            "Confusion Matrix:\n",
            "[[67636  3445]\n",
            " [   10   111]]\n"
          ],
          "name": "stdout"
        }
      ]
    },
    {
      "cell_type": "markdown",
      "metadata": {
        "id": "vfcO92ZOPoN5",
        "colab_type": "text"
      },
      "source": [
        "### **Random Forest Classifier including ADASYN resampling**"
      ]
    },
    {
      "cell_type": "code",
      "metadata": {
        "id": "uuYErsM6rOXN",
        "colab_type": "code",
        "outputId": "14e37a26-7198-4b50-f6cf-ce472b5a05f9",
        "colab": {
          "base_uri": "https://localhost:8080/",
          "height": 663
        }
      },
      "source": [
        "#Create a simple Random Forest Classifier\n",
        "rfc = RandomForestClassifier(random_state = 5)\n",
        "\n",
        "#Create a Pipeline combining ADASYN resampling and the Random Forest Classifier Model\n",
        "adasyn_rfc = Pipeline([('ADASYN', resampling_adasyn), ('Random Forest Classifier', rfc)])\n",
        "\n",
        "#Create a Pipeline combining smt resampling and the Random Forest Classifier Model\n",
        "smt_rfc = Pipeline([('SMOTETomek Links', resampling_smt), ('Random Forest Classifier', rfc)])\n",
        "\n",
        "# Testing Model Performance of the Pipeline adasyn_rfc\n",
        "print('\\nADASYN & Random Forest Classifier - Model Performance:')\n",
        "model_performance(X_train, y_train, X_test, y_test, adasyn_rfc)\n",
        "\n",
        "# Testing Model Performance of the Pipeline smt_rfc\n",
        "print('\\nSMOTE Tomek Links & Random Forest Classifier - Model Performance:')\n",
        "model_performance(X_train, y_train, X_test, y_test, smt_rfc)"
      ],
      "execution_count": 43,
      "outputs": [
        {
          "output_type": "stream",
          "text": [
            "\n",
            "ADASYN & Random Forest Classifier - Model Performance:\n",
            "ROC Score:\n",
            "0.9697448528340559\n",
            "\n",
            "Classification Report:\n",
            "              precision    recall  f1-score   support\n",
            "\n",
            "           0       1.00      1.00      1.00     71081\n",
            "           1       0.90      0.84      0.87       121\n",
            "\n",
            "    accuracy                           1.00     71202\n",
            "   macro avg       0.95      0.92      0.94     71202\n",
            "weighted avg       1.00      1.00      1.00     71202\n",
            "\n",
            "\n",
            "Confusion Matrix:\n",
            "[[71070    11]\n",
            " [   19   102]]\n",
            "\n",
            "SMOTE Tomek Links & Random Forest Classifier - Model Performance:\n",
            "ROC Score:\n",
            "0.9773879781662197\n",
            "\n",
            "Classification Report:\n",
            "              precision    recall  f1-score   support\n",
            "\n",
            "           0       1.00      1.00      1.00     71081\n",
            "           1       0.90      0.85      0.87       121\n",
            "\n",
            "    accuracy                           1.00     71202\n",
            "   macro avg       0.95      0.93      0.94     71202\n",
            "weighted avg       1.00      1.00      1.00     71202\n",
            "\n",
            "\n",
            "Confusion Matrix:\n",
            "[[71069    12]\n",
            " [   18   103]]\n"
          ],
          "name": "stdout"
        }
      ]
    },
    {
      "cell_type": "markdown",
      "metadata": {
        "id": "_Jzzuz7eIX3k",
        "colab_type": "text"
      },
      "source": [
        "### **Performing GridSearchCV in order to obtain the Optimal Parameters for the Random Forest Classifier Model - Optimized for Recall**\n",
        "\n"
      ]
    },
    {
      "cell_type": "code",
      "metadata": {
        "id": "fP7jJLucy6jW",
        "colab_type": "code",
        "outputId": "d93979f4-a064-4c6b-e8bf-83f630187b66",
        "colab": {
          "base_uri": "https://localhost:8080/",
          "height": 34
        }
      },
      "source": [
        "# Create a parameter grid \n",
        "param_grid = {\"Random Forest Classifier__max_depth\": [4,8,10,12],\n",
        "              \"Random Forest Classifier__max_features\": [\"auto\", \"log2\"],\n",
        "              \"Random Forest Classifier__n_estimators\": [1,30],\n",
        "              \"Random Forest Classifier__criterion\": ['gini','entropy']\n",
        "              }\n",
        "\n",
        "#Renaming the Pipeline which the model is based upon \n",
        "model = adasyn_rfc\n",
        "model1 = smt_rfc\n",
        "\n",
        "#Perform GridSearchCV to get the best parameter of adasyn_rfc\n",
        "##CV_model = GridSearchCV(estimator=model, param_grid=param_grid, cv=5, scoring=\"recall\", n_jobs=-1)\n",
        "##CV_model.fit(X_train,y_train)\n",
        "##CV_model.best_params_\n",
        "\n",
        "\"\"\"\n",
        "Optimal parameters (adasyn_rfc):\n",
        "{'Random Forest Classifier__criterion': 'entropy',\n",
        " 'Random Forest Classifier__max_depth': 4, \n",
        " 'Random Forest Classifier__max_features': 'auto', \n",
        " 'Random Forest Classifier__n_estimators': 30}\n",
        "\"\"\"\n",
        "\n",
        "#Perform GridSearchCV to get the best parameter of smt_rfc\n",
        "##CV_model1 = GridSearchCV(estimator=model1, param_grid=param_grid, cv=5, scoring=\"recall\", n_jobs=-1)\n",
        "##CV_model1.fit(X_train,y_train)\n",
        "##CV_model1.best_params_\n",
        "\n",
        "\"\"\"\n",
        "Optimal parameters (smt_rfc)\n",
        " {'Random Forest Classifier__criterion': 'entropy',\n",
        " 'Random Forest Classifier__max_depth': 8,\n",
        " 'Random Forest Classifier__max_features': 'auto',\n",
        " 'Random Forest Classifier__n_estimators': 1}\n",
        "\"\"\""
      ],
      "execution_count": 44,
      "outputs": [
        {
          "output_type": "execute_result",
          "data": {
            "text/plain": [
              "\"\\nOptimal parameters (smt_rfc)\\n {'Random Forest Classifier__criterion': 'entropy',\\n 'Random Forest Classifier__max_depth': 8,\\n 'Random Forest Classifier__max_features': 'auto',\\n 'Random Forest Classifier__n_estimators': 1}\\n\""
            ]
          },
          "metadata": {
            "tags": []
          },
          "execution_count": 44
        }
      ]
    },
    {
      "cell_type": "markdown",
      "metadata": {
        "id": "uoZl30of8fMb",
        "colab_type": "text"
      },
      "source": [
        "### **Optimized Random Forest Classifier including ADASYN resampling**"
      ]
    },
    {
      "cell_type": "code",
      "metadata": {
        "id": "uNleb6Nd2eTp",
        "colab_type": "code",
        "outputId": "285643ac-e156-4e2b-b4f4-d80d55bd9fb5",
        "colab": {
          "base_uri": "https://localhost:8080/",
          "height": 663
        }
      },
      "source": [
        "# Input the optimal parameters in the Random Forest Model\n",
        "rfc = RandomForestClassifier(criterion='entropy',\n",
        "                               max_depth=4,\n",
        "                               max_features='auto',\n",
        "                               n_estimators=30,\n",
        "                               n_jobs=-1,\n",
        "                               random_state=5)\n",
        "\n",
        "# Creating a Pipeline based on ADASYN resampling and the Optimized Random Forest Classifier\n",
        "adasyn_rfc = Pipeline([('ADASYN', resampling_adasyn), ('Random Forest Classifier', rfc)])\n",
        "\n",
        "# Creating a Pipeline based on SMOTE Tomek-Links resampling and the Optimized Random Forest Classifier\n",
        "smt_rfc = Pipeline([('SMOTE Tomek Links', resampling_smt), ('Random Forest Classifier', rfc)])\n",
        "\n",
        "# Testing the Performance of adasyn_rfc\n",
        "print('\\n\"ADASYN & Optimized Random Forest Classifier\" Model Performance:')\n",
        "model_performance(X_train, y_train, X_test, y_test, adasyn_rfc)\n",
        "\n",
        "# Testing the Performance of smt_rfc\n",
        "print('\\n\"SMOTE Tomek-Links & Optimized Random Forest Classifier\" Model Performance:')\n",
        "model_performance(X_train, y_train, X_test, y_test, smt_rfc)"
      ],
      "execution_count": 45,
      "outputs": [
        {
          "output_type": "stream",
          "text": [
            "\n",
            "\"ADASYN & Optimized Random Forest Classifier\" Model Performance:\n",
            "ROC Score:\n",
            "0.9767317602162868\n",
            "\n",
            "Classification Report:\n",
            "              precision    recall  f1-score   support\n",
            "\n",
            "           0       1.00      0.98      0.99     71081\n",
            "           1       0.08      0.90      0.15       121\n",
            "\n",
            "    accuracy                           0.98     71202\n",
            "   macro avg       0.54      0.94      0.57     71202\n",
            "weighted avg       1.00      0.98      0.99     71202\n",
            "\n",
            "\n",
            "Confusion Matrix:\n",
            "[[69812  1269]\n",
            " [   12   109]]\n",
            "\n",
            "\"SMOTE Tomek-Links & Optimized Random Forest Classifier\" Model Performance:\n",
            "ROC Score:\n",
            "0.9683853864308686\n",
            "\n",
            "Classification Report:\n",
            "              precision    recall  f1-score   support\n",
            "\n",
            "           0       1.00      1.00      1.00     71081\n",
            "           1       0.29      0.88      0.44       121\n",
            "\n",
            "    accuracy                           1.00     71202\n",
            "   macro avg       0.65      0.94      0.72     71202\n",
            "weighted avg       1.00      1.00      1.00     71202\n",
            "\n",
            "\n",
            "Confusion Matrix:\n",
            "[[70821   260]\n",
            " [   14   107]]\n"
          ],
          "name": "stdout"
        }
      ]
    },
    {
      "cell_type": "markdown",
      "metadata": {
        "id": "Hsm5UGeF50-0",
        "colab_type": "text"
      },
      "source": [
        "### **Gaussian Naive Bayes including ADASYN resampling**"
      ]
    },
    {
      "cell_type": "code",
      "metadata": {
        "id": "C5bD-gY6moR3",
        "colab_type": "code",
        "outputId": "9e5d1c13-8e34-453b-aab1-fe7eb640789e",
        "colab": {
          "base_uri": "https://localhost:8080/",
          "height": 663
        }
      },
      "source": [
        "#Create a Gaussian Naive Bayes model\n",
        "gnb = GaussianNB()\n",
        "\n",
        "# Define a pipeline combining ADASYN with the Gaussian Naive Bayes model\n",
        "adasyn_gnb = Pipeline([('ADASYN', resampling_adasyn), ('Gaussian Naive Bayes', gnb)])\n",
        "\n",
        "# Define a pipeline combining SMOTE Tomek-Links with the Gaussian Naive Bayes model\n",
        "smt_gnb = Pipeline([('SMOTE Tomek-Links', resampling_smt), ('Gaussian Naive Bayes', gnb)])\n",
        "\n",
        "print('\\n Gaussian Naive Bayes with ADASYN resampling')\n",
        "model_performance(X_train, y_train, X_test, y_test, adasyn_gnb)\n",
        "\n",
        "print('\\n Gaussian Naive Bayes with SMOTE Tomek-Links resampling')\n",
        "model_performance(X_train, y_train, X_test, y_test, smt_gnb)"
      ],
      "execution_count": 46,
      "outputs": [
        {
          "output_type": "stream",
          "text": [
            "\n",
            " Gaussian Naive Bayes with ADASYN resampling\n",
            "ROC Score:\n",
            "0.9717279820798086\n",
            "\n",
            "Classification Report:\n",
            "              precision    recall  f1-score   support\n",
            "\n",
            "           0       1.00      0.96      0.98     71081\n",
            "           1       0.04      0.89      0.08       121\n",
            "\n",
            "    accuracy                           0.96     71202\n",
            "   macro avg       0.52      0.93      0.53     71202\n",
            "weighted avg       1.00      0.96      0.98     71202\n",
            "\n",
            "\n",
            "Confusion Matrix:\n",
            "[[68522  2559]\n",
            " [   13   108]]\n",
            "\n",
            " Gaussian Naive Bayes with SMOTE Tomek-Links resampling\n",
            "ROC Score:\n",
            "0.9689218480929858\n",
            "\n",
            "Classification Report:\n",
            "              precision    recall  f1-score   support\n",
            "\n",
            "           0       1.00      0.98      0.99     71081\n",
            "           1       0.06      0.87      0.11       121\n",
            "\n",
            "    accuracy                           0.98     71202\n",
            "   macro avg       0.53      0.92      0.55     71202\n",
            "weighted avg       1.00      0.98      0.99     71202\n",
            "\n",
            "\n",
            "Confusion Matrix:\n",
            "[[69423  1658]\n",
            " [   16   105]]\n"
          ],
          "name": "stdout"
        }
      ]
    },
    {
      "cell_type": "code",
      "metadata": {
        "id": "ayeKa95Fmv2D",
        "colab_type": "code",
        "outputId": "f67aea86-6bb1-437c-8305-c7734ca6cbef",
        "colab": {
          "base_uri": "https://localhost:8080/",
          "height": 54
        }
      },
      "source": [
        "\"\"\"\n",
        " Testing Model Performance of each of models\n",
        "print('\\nADASYN & Optimized Random Forest Classifier - Model Performance:')\n",
        "model_performance(X_train, y_train, X_test, y_test, adasyn_rfc)\n",
        "print('\\nADASYN & Logistic Regression - Model Performance:')\n",
        "model_performance(X_train, y_train, X_test, y_test, adasyn_logReg)\n",
        "print('\\nADASYN & Gaussian Naive Bayes - Model Performance:')\n",
        "model_performance(X_train, y_train, X_test, y_test, adasyn_gnb)\n",
        "\"\"\""
      ],
      "execution_count": 47,
      "outputs": [
        {
          "output_type": "execute_result",
          "data": {
            "text/plain": [
              "\"\\n Testing Model Performance of each of models\\nprint('\\nADASYN & Optimized Random Forest Classifier - Model Performance:')\\nmodel_performance(X_train, y_train, X_test, y_test, adasyn_rfc)\\nprint('\\nADASYN & Logistic Regression - Model Performance:')\\nmodel_performance(X_train, y_train, X_test, y_test, adasyn_logReg)\\nprint('\\nADASYN & Gaussian Naive Bayes - Model Performance:')\\nmodel_performance(X_train, y_train, X_test, y_test, adasyn_gnb)\\n\""
            ]
          },
          "metadata": {
            "tags": []
          },
          "execution_count": 47
        }
      ]
    },
    {
      "cell_type": "markdown",
      "metadata": {
        "id": "uAfNu1SLh1H5",
        "colab_type": "text"
      },
      "source": [
        "### **Creating Ensemble Models**"
      ]
    },
    {
      "cell_type": "code",
      "metadata": {
        "id": "aQMYuoQ873Xd",
        "colab_type": "code",
        "colab": {}
      },
      "source": [
        "# Combine models into ensemble models and testing with Hard/Soft Voting and weights\n",
        "ensemble_model_adasyn = VotingClassifier(estimators=[('rfc', adasyn_rfc), ('logReg', adasyn_logReg), ('gnb', adasyn_gnb)], voting='hard')\n",
        "ensemble_model1_adasyn = VotingClassifier(estimators=[('rfc', adasyn_rfc), ('logReg', adasyn_logReg), ('gnb', adasyn_gnb)], voting='soft')\n",
        "ensemble_model2_adasyn = VotingClassifier(estimators=[('rfc', adasyn_rfc), ('logReg', adasyn_logReg), ('gnb', adasyn_gnb)], voting='soft', weights=[1,3,1])\n",
        "ensemble_model3_adasyn = VotingClassifier(estimators=[('rfc', adasyn_rfc), ('logReg', adasyn_logReg), ('gnb', adasyn_gnb)], voting='soft', weights=[2,1,1])\n",
        "ensemble_model4_adasyn = VotingClassifier(estimators=[('rfc', adasyn_rfc), ('logReg', adasyn_logReg), ('gnb', adasyn_gnb)], voting='soft', weights=[3,1,1])\n",
        "\n",
        "# Combine models into ensemble models and testing with Hard/Soft Voting and weights\n",
        "ensemble_model_smt = VotingClassifier(estimators=[('rfc', smt_rfc), ('logReg', smt_logReg), ('gnb', smt_gnb)], voting='hard')\n",
        "ensemble_model1_smt = VotingClassifier(estimators=[('rfc', smt_rfc), ('logReg', smt_logReg), ('gnb', smt_gnb)], voting='soft')\n",
        "ensemble_model2_smt = VotingClassifier(estimators=[('rfc', smt_rfc), ('logReg', smt_logReg), ('gnb', smt_gnb)], voting='soft', weights=[1,3,1])\n",
        "ensemble_model3_smt = VotingClassifier(estimators=[('rfc', smt_rfc), ('logReg', smt_logReg), ('gnb', smt_gnb)], voting='soft', weights=[2,1,1])\n",
        "ensemble_model4_smt = VotingClassifier(estimators=[('rfc', smt_rfc), ('logReg', smt_logReg), ('gnb', smt_gnb)], voting='soft', weights=[3,1,1])"
      ],
      "execution_count": 0,
      "outputs": []
    },
    {
      "cell_type": "markdown",
      "metadata": {
        "id": "JkH823gsWsoC",
        "colab_type": "text"
      },
      "source": [
        "### **Ensemble Model Performance (Hard Voting):**"
      ]
    },
    {
      "cell_type": "code",
      "metadata": {
        "id": "U442___0Wr8u",
        "colab_type": "code",
        "outputId": "0f87e75b-a673-4b93-8083-1a2e1c507e53",
        "colab": {
          "base_uri": "https://localhost:8080/",
          "height": 272
        }
      },
      "source": [
        "model_performance(X_train, y_train, X_test, y_test, ensemble_model_adasyn)"
      ],
      "execution_count": 49,
      "outputs": [
        {
          "output_type": "stream",
          "text": [
            "\n",
            "Classification Report:\n",
            "              precision    recall  f1-score   support\n",
            "\n",
            "           0       1.00      0.98      0.99     71081\n",
            "           1       0.07      0.90      0.13       121\n",
            "\n",
            "    accuracy                           0.98     71202\n",
            "   macro avg       0.53      0.94      0.56     71202\n",
            "weighted avg       1.00      0.98      0.99     71202\n",
            "\n",
            "\n",
            "Confusion Matrix:\n",
            "[[69620  1461]\n",
            " [   12   109]]\n"
          ],
          "name": "stdout"
        }
      ]
    },
    {
      "cell_type": "markdown",
      "metadata": {
        "id": "yVj1mX5EWvzM",
        "colab_type": "text"
      },
      "source": [
        "### **Ensemble Model Performance (Soft Voting)**"
      ]
    },
    {
      "cell_type": "code",
      "metadata": {
        "id": "8M7ENlgOWwQ7",
        "colab_type": "code",
        "outputId": "2406e801-1ba9-4455-811c-755113890c61",
        "colab": {
          "base_uri": "https://localhost:8080/",
          "height": 306
        }
      },
      "source": [
        "model_performance(X_train, y_train, X_test, y_test, ensemble_model1_adasyn)"
      ],
      "execution_count": 50,
      "outputs": [
        {
          "output_type": "stream",
          "text": [
            "ROC Score:\n",
            "0.9751222589616945\n",
            "\n",
            "Classification Report:\n",
            "              precision    recall  f1-score   support\n",
            "\n",
            "           0       1.00      0.98      0.99     71081\n",
            "           1       0.08      0.91      0.14       121\n",
            "\n",
            "    accuracy                           0.98     71202\n",
            "   macro avg       0.54      0.95      0.57     71202\n",
            "weighted avg       1.00      0.98      0.99     71202\n",
            "\n",
            "\n",
            "Confusion Matrix:\n",
            "[[69788  1293]\n",
            " [   11   110]]\n"
          ],
          "name": "stdout"
        }
      ]
    },
    {
      "cell_type": "markdown",
      "metadata": {
        "id": "MQTch6APW06F",
        "colab_type": "text"
      },
      "source": [
        "### **Ensemble Model Performance (Soft Voting, Weighted) 1,3,1)**"
      ]
    },
    {
      "cell_type": "code",
      "metadata": {
        "id": "jDG91ydXWxqU",
        "colab_type": "code",
        "outputId": "207782d7-9d22-40a6-c1d7-f3d51e2a5fe9",
        "colab": {
          "base_uri": "https://localhost:8080/",
          "height": 306
        }
      },
      "source": [
        "model_performance(X_train, y_train, X_test, y_test, ensemble_model2_adasyn)"
      ],
      "execution_count": 51,
      "outputs": [
        {
          "output_type": "stream",
          "text": [
            "ROC Score:\n",
            "0.9728624694374396\n",
            "\n",
            "Classification Report:\n",
            "              precision    recall  f1-score   support\n",
            "\n",
            "           0       1.00      0.97      0.99     71081\n",
            "           1       0.05      0.91      0.10       121\n",
            "\n",
            "    accuracy                           0.97     71202\n",
            "   macro avg       0.53      0.94      0.54     71202\n",
            "weighted avg       1.00      0.97      0.98     71202\n",
            "\n",
            "\n",
            "Confusion Matrix:\n",
            "[[69099  1982]\n",
            " [   11   110]]\n"
          ],
          "name": "stdout"
        }
      ]
    },
    {
      "cell_type": "markdown",
      "metadata": {
        "id": "JOwoodNKWxUe",
        "colab_type": "text"
      },
      "source": [
        "### **Ensemble Model Performance (Soft Voting, Weighted 2,1,1)**"
      ]
    },
    {
      "cell_type": "code",
      "metadata": {
        "id": "TkfNDccXW2eH",
        "colab_type": "code",
        "outputId": "c85c2cd7-39ee-45f5-9fa4-bc646b8ab740",
        "colab": {
          "base_uri": "https://localhost:8080/",
          "height": 306
        }
      },
      "source": [
        "model_performance(X_train, y_train, X_test, y_test, ensemble_model3_adasyn)"
      ],
      "execution_count": 52,
      "outputs": [
        {
          "output_type": "stream",
          "text": [
            "ROC Score:\n",
            "0.9765166639711814\n",
            "\n",
            "Classification Report:\n",
            "              precision    recall  f1-score   support\n",
            "\n",
            "           0       1.00      0.98      0.99     71081\n",
            "           1       0.08      0.91      0.15       121\n",
            "\n",
            "    accuracy                           0.98     71202\n",
            "   macro avg       0.54      0.95      0.57     71202\n",
            "weighted avg       1.00      0.98      0.99     71202\n",
            "\n",
            "\n",
            "Confusion Matrix:\n",
            "[[69877  1204]\n",
            " [   11   110]]\n"
          ],
          "name": "stdout"
        }
      ]
    },
    {
      "cell_type": "markdown",
      "metadata": {
        "id": "VK56apT-XrlL",
        "colab_type": "text"
      },
      "source": [
        "### **Ensemble Model Performance (Soft Voting, Weighted 3,1,1)**"
      ]
    },
    {
      "cell_type": "code",
      "metadata": {
        "id": "OHRPyID3XsNC",
        "colab_type": "code",
        "outputId": "15082413-7d88-48e9-eb7f-0ccb23cf036b",
        "colab": {
          "base_uri": "https://localhost:8080/",
          "height": 306
        }
      },
      "source": [
        "model_performance(X_train, y_train, X_test, y_test, ensemble_model4_adasyn)"
      ],
      "execution_count": 53,
      "outputs": [
        {
          "output_type": "stream",
          "text": [
            "ROC Score:\n",
            "0.9769791790322785\n",
            "\n",
            "Classification Report:\n",
            "              precision    recall  f1-score   support\n",
            "\n",
            "           0       1.00      0.98      0.99     71081\n",
            "           1       0.09      0.90      0.16       121\n",
            "\n",
            "    accuracy                           0.98     71202\n",
            "   macro avg       0.54      0.94      0.58     71202\n",
            "weighted avg       1.00      0.98      0.99     71202\n",
            "\n",
            "\n",
            "Confusion Matrix:\n",
            "[[69942  1139]\n",
            " [   12   109]]\n"
          ],
          "name": "stdout"
        }
      ]
    },
    {
      "cell_type": "markdown",
      "metadata": {
        "id": "nxdqUziwhjBV",
        "colab_type": "text"
      },
      "source": [
        "### **Testing Ensemble Model Performance based on SMOTE + Tomek Links Resampling**"
      ]
    },
    {
      "cell_type": "code",
      "metadata": {
        "id": "9YFB6raYBR8W",
        "colab_type": "code",
        "colab": {
          "base_uri": "https://localhost:8080/",
          "height": 272
        },
        "outputId": "df4aa70d-7928-4b73-8140-22fad44f9b0f"
      },
      "source": [
        "#Create a Pipeline combining ADASYN resampling and the Random Forest Classifier Model\n",
        "smt_rfc = Pipeline([('SMOTE + Tomek Links', resampling_smt), ('Random Forest Classifier', rfc)])\n",
        "\n",
        "# Combine models into ensemble models and testing with Hard/Soft Voting and weights\n",
        "ensemble_model_smt = VotingClassifier(estimators=[('rfc', smt_rfc), ('logReg', smt_logReg), ('gnb', smt_gnb)], voting='hard')\n",
        "ensemble_model1_smt = VotingClassifier(estimators=[('rfc', smt_rfc), ('logReg', smt_logReg), ('gnb', smt_gnb)], voting='soft')\n",
        "ensemble_model2_smt = VotingClassifier(estimators=[('rfc', smt_rfc), ('logReg', smt_logReg), ('gnb', smt_gnb)], voting='soft', weights=[1,3,1])\n",
        "ensemble_model3_smt = VotingClassifier(estimators=[('rfc', smt_rfc), ('logReg', smt_logReg), ('gnb', smt_gnb)], voting='soft', weights=[2,1,1])\n",
        "ensemble_model4_smt = VotingClassifier(estimators=[('rfc', smt_rfc), ('logReg', smt_logReg), ('gnb', smt_gnb)], voting='soft', weights=[3,1,1])\n",
        "\n",
        "\n",
        "model_performance(X_train, y_train, X_test, y_test, ensemble_model_smt)"
      ],
      "execution_count": 54,
      "outputs": [
        {
          "output_type": "stream",
          "text": [
            "\n",
            "Classification Report:\n",
            "              precision    recall  f1-score   support\n",
            "\n",
            "           0       1.00      0.99      1.00     71081\n",
            "           1       0.22      0.88      0.35       121\n",
            "\n",
            "    accuracy                           0.99     71202\n",
            "   macro avg       0.61      0.94      0.67     71202\n",
            "weighted avg       1.00      0.99      1.00     71202\n",
            "\n",
            "\n",
            "Confusion Matrix:\n",
            "[[70702   379]\n",
            " [   15   106]]\n"
          ],
          "name": "stdout"
        }
      ]
    },
    {
      "cell_type": "code",
      "metadata": {
        "id": "P00q5Ic3BpGf",
        "colab_type": "code",
        "outputId": "1877dd13-5052-4e4a-b093-8bf922fd6ca8",
        "colab": {
          "base_uri": "https://localhost:8080/",
          "height": 306
        }
      },
      "source": [
        "model_performance(X_train, y_train, X_test, y_test, ensemble_model1_smt)"
      ],
      "execution_count": 55,
      "outputs": [
        {
          "output_type": "stream",
          "text": [
            "ROC Score:\n",
            "0.9694723782122154\n",
            "\n",
            "Classification Report:\n",
            "              precision    recall  f1-score   support\n",
            "\n",
            "           0       1.00      0.99      1.00     71081\n",
            "           1       0.20      0.88      0.32       121\n",
            "\n",
            "    accuracy                           0.99     71202\n",
            "   macro avg       0.60      0.93      0.66     71202\n",
            "weighted avg       1.00      0.99      1.00     71202\n",
            "\n",
            "\n",
            "Confusion Matrix:\n",
            "[[70645   436]\n",
            " [   15   106]]\n"
          ],
          "name": "stdout"
        }
      ]
    },
    {
      "cell_type": "code",
      "metadata": {
        "id": "285QV-UaBtUZ",
        "colab_type": "code",
        "outputId": "c5c7c001-632f-48f8-a0e4-398adc653ef1",
        "colab": {
          "base_uri": "https://localhost:8080/",
          "height": 306
        }
      },
      "source": [
        "model_performance(X_train, y_train, X_test, y_test, ensemble_model2_smt)"
      ],
      "execution_count": 56,
      "outputs": [
        {
          "output_type": "stream",
          "text": [
            "ROC Score:\n",
            "0.9704201969095669\n",
            "\n",
            "Classification Report:\n",
            "              precision    recall  f1-score   support\n",
            "\n",
            "           0       1.00      0.99      1.00     71081\n",
            "           1       0.14      0.89      0.24       121\n",
            "\n",
            "    accuracy                           0.99     71202\n",
            "   macro avg       0.57      0.94      0.62     71202\n",
            "weighted avg       1.00      0.99      0.99     71202\n",
            "\n",
            "\n",
            "Confusion Matrix:\n",
            "[[70392   689]\n",
            " [   13   108]]\n"
          ],
          "name": "stdout"
        }
      ]
    },
    {
      "cell_type": "code",
      "metadata": {
        "id": "mlmpw6DDBv91",
        "colab_type": "code",
        "outputId": "3fc035ca-5baa-41fc-afb1-83e7c4f72e74",
        "colab": {
          "base_uri": "https://localhost:8080/",
          "height": 306
        }
      },
      "source": [
        "model_performance(X_train, y_train, X_test, y_test, ensemble_model3_smt)"
      ],
      "execution_count": 57,
      "outputs": [
        {
          "output_type": "stream",
          "text": [
            "ROC Score:\n",
            "0.9709840978764652\n",
            "\n",
            "Classification Report:\n",
            "              precision    recall  f1-score   support\n",
            "\n",
            "           0       1.00      1.00      1.00     71081\n",
            "           1       0.23      0.88      0.36       121\n",
            "\n",
            "    accuracy                           0.99     71202\n",
            "   macro avg       0.61      0.94      0.68     71202\n",
            "weighted avg       1.00      0.99      1.00     71202\n",
            "\n",
            "\n",
            "Confusion Matrix:\n",
            "[[70726   355]\n",
            " [   15   106]]\n"
          ],
          "name": "stdout"
        }
      ]
    },
    {
      "cell_type": "code",
      "metadata": {
        "id": "O1o9j5ZbBx0f",
        "colab_type": "code",
        "outputId": "56c08a1c-479e-493c-94d2-702ecb6527a6",
        "colab": {
          "base_uri": "https://localhost:8080/",
          "height": 306
        }
      },
      "source": [
        "model_performance(X_train, y_train, X_test, y_test, ensemble_model4_smt)"
      ],
      "execution_count": 58,
      "outputs": [
        {
          "output_type": "stream",
          "text": [
            "ROC Score:\n",
            "0.9688459249318755\n",
            "\n",
            "Classification Report:\n",
            "              precision    recall  f1-score   support\n",
            "\n",
            "           0       1.00      1.00      1.00     71081\n",
            "           1       0.24      0.88      0.38       121\n",
            "\n",
            "    accuracy                           1.00     71202\n",
            "   macro avg       0.62      0.94      0.69     71202\n",
            "weighted avg       1.00      1.00      1.00     71202\n",
            "\n",
            "\n",
            "Confusion Matrix:\n",
            "[[70748   333]\n",
            " [   15   106]]\n"
          ],
          "name": "stdout"
        }
      ]
    }
  ]
}